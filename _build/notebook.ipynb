{
 "cells": [
  {
   "cell_type": "markdown",
   "metadata": {},
   "source": [
    "# $\\mathcal{N}otebook$"
   ]
  }
 ],
 "metadata": {
  "interpreter": {
   "hash": "725bff8c2047974d662cfbca4221a709e6a1b5aab7b6da172f5e66bb3511fc3c"
  },
  "kernelspec": {
   "display_name": "Python 3.9.7 ('torch39')",
   "language": "python",
   "name": "python3"
  },
  "language_info": {
   "name": "python",
   "version": "3.9.7"
  }
 },
 "nbformat": 4,
 "nbformat_minor": 2
}
